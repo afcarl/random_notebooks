{
 "cells": [
  {
   "cell_type": "code",
   "execution_count": 29,
   "metadata": {},
   "outputs": [],
   "source": [
    "import numpy as np\n",
    "import matplotlib.pyplot as plt\n",
    "from scipy.stats import pearsonr\n",
    "from sklearn.model_selection import KFold\n",
    "from sklearn.linear_model import Ridge, RidgeCV, LinearRegression\n",
    "from sklearn.preprocessing import StandardScaler\n",
    "from sklearn.pipeline import Pipeline\n",
    "from sklearn.metrics import r2_score\n",
    "%matplotlib inline"
   ]
  },
  {
   "cell_type": "code",
   "execution_count": 5,
   "metadata": {},
   "outputs": [],
   "source": [
    "def symmetricize(arr1D):\n",
    "    ID = np.arange(arr1D.size)\n",
    "    return arr1D[np.abs(ID - ID[:,None])]"
   ]
  },
  {
   "cell_type": "code",
   "execution_count": 72,
   "metadata": {},
   "outputs": [],
   "source": [
    "N, K = 100, 750\n",
    "X = np.random.normal(0, 1, (N, K))\n",
    "X = np.hstack((np.ones((N, 1)), X))\n",
    "betas_real = np.random.normal(0, 1, K+1)\n",
    "cov_betas = symmetricize(betas_real)\n",
    "betas_real += (np.random.normal(0, 1, K+1) / 10)\n",
    "y = X.dot(betas_real)"
   ]
  },
  {
   "cell_type": "code",
   "execution_count": 73,
   "metadata": {},
   "outputs": [
    {
     "data": {
      "text/plain": [
       "1.0"
      ]
     },
     "execution_count": 73,
     "metadata": {},
     "output_type": "execute_result"
    }
   ],
   "source": [
    "y_hat = X.dot(np.linalg.lstsq(X, y)[0])\n",
    "r2_score(y, y_hat)"
   ]
  },
  {
   "cell_type": "markdown",
   "metadata": {},
   "source": [
    "### Standard linear regression (no regularization)"
   ]
  },
  {
   "cell_type": "code",
   "execution_count": 75,
   "metadata": {},
   "outputs": [
    {
     "name": "stdout",
     "output_type": "stream",
     "text": [
      "[-0.36469511 -0.06510429  0.19879247  0.40344633 -0.05125232  0.56635711\n",
      "  0.45281091  0.2645922   0.55536819  0.33347589]\n",
      "\n",
      "R: 0.229379. (0.288)\n"
     ]
    }
   ],
   "source": [
    "folds = KFold(n_splits=10)\n",
    "\n",
    "pipe = Pipeline([\n",
    "    ('scaler', StandardScaler()),\n",
    "    ('model', LinearRegression())\n",
    "])\n",
    "\n",
    "scores = np.zeros(10)\n",
    "for i, (train_idx, test_idx) in enumerate(folds.split(X, y)):\n",
    "    pipe.fit(X[train_idx], y[train_idx])\n",
    "    preds = pipe.predict(X[test_idx])\n",
    "    scores[i] = pearsonr(y[test_idx], preds)[0]\n",
    "    \n",
    "print(scores, end='\\n\\n')\n",
    "print(\"R: %3f. (%.3f)\" % (scores.mean(), scores.std()))"
   ]
  },
  {
   "cell_type": "markdown",
   "metadata": {},
   "source": [
    "### Ridge"
   ]
  },
  {
   "cell_type": "code",
   "execution_count": 76,
   "metadata": {},
   "outputs": [
    {
     "name": "stdout",
     "output_type": "stream",
     "text": [
      "[-0.40153522 -0.06952581  0.3433329   0.44530918 -0.01890273  0.53877646\n",
      "  0.46723613  0.26109276  0.56704463  0.31522416]\n",
      "R: 0.244805. (0.297)\n"
     ]
    }
   ],
   "source": [
    "folds = KFold(n_splits=10)\n",
    "pipe = Pipeline([\n",
    "    ('scaler', StandardScaler()),\n",
    "    ('model', RidgeCV())\n",
    "])\n",
    "\n",
    "scores = np.zeros(10)\n",
    "for i, (train_idx, test_idx) in enumerate(folds.split(X, y)):\n",
    "    pipe.fit(X[train_idx], y[train_idx])\n",
    "    preds = pipe.predict(X[test_idx])\n",
    "    scores[i] = pearsonr(y[test_idx], preds)[0]\n",
    "\n",
    "print(scores)\n",
    "print(\"R: %3f. (%.3f)\" % (scores.mean(), scores.std()))"
   ]
  },
  {
   "cell_type": "markdown",
   "metadata": {},
   "source": [
    "### Tikhonov"
   ]
  },
  {
   "cell_type": "code",
   "execution_count": 77,
   "metadata": {},
   "outputs": [
    {
     "data": {
      "text/plain": [
       "-0.21602906682839412"
      ]
     },
     "execution_count": 77,
     "metadata": {},
     "output_type": "execute_result"
    }
   ],
   "source": [
    "folds = KFold(n_splits=10)\n",
    "lambd = 100\n",
    "regul = lambd * cov_betas.T.dot(cov_betas)\n",
    "scaler = StandardScaler()\n",
    "\n",
    "scores = np.zeros(10)\n",
    "for i, (train_idx, test_idx) in enumerate(folds.split(X, y)):\n",
    "    X_train, y_train = X[train_idx], y[train_idx]\n",
    "    X_test, y_test = X[test_idx], y[test_idx]\n",
    "    X_train = scaler.fit_transform(X_train)\n",
    "    X_test = scaler.transform(X_test)\n",
    "    betas_recon = np.linalg.pinv(X_train.T.dot(X_train) + regul).dot(X_train.T).dot(y_train)\n",
    "    scores[i] = pearsonr(X_test.dot(betas_recon), y_test)[0]\n",
    "\n",
    "scores.mean()"
   ]
  }
 ],
 "metadata": {
  "kernelspec": {
   "display_name": "Python 3",
   "language": "python",
   "name": "python3"
  },
  "language_info": {
   "codemirror_mode": {
    "name": "ipython",
    "version": 3
   },
   "file_extension": ".py",
   "mimetype": "text/x-python",
   "name": "python",
   "nbconvert_exporter": "python",
   "pygments_lexer": "ipython3",
   "version": "3.6.1"
  }
 },
 "nbformat": 4,
 "nbformat_minor": 2
}
