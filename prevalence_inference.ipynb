{
 "cells": [
  {
   "cell_type": "markdown",
   "metadata": {},
   "source": [
    "# Prevalence inference\n",
    "Based on the [paper](http://www.sciencedirect.com/science/article/pii/S1053811916303470) and [code](https://github.com/allefeld/prevalence-permutation) by Allefeld, Gorgen, & Haynes."
   ]
  },
  {
   "cell_type": "code",
   "execution_count": 1,
   "metadata": {},
   "outputs": [],
   "source": [
    "import numpy as np\n",
    "import matplotlib.pyplot as plt\n",
    "%matplotlib inline"
   ]
  },
  {
   "cell_type": "markdown",
   "metadata": {},
   "source": [
    "## Data"
   ]
  },
  {
   "cell_type": "code",
   "execution_count": 16,
   "metadata": {},
   "outputs": [
    {
     "name": "stdout",
     "output_type": "stream",
     "text": [
      "Perms shape: (20, 810, 1000)\n",
      "Observed values shape: (20, 810)\n",
      "All_data shape: (20, 810, 1001)\n"
     ]
    }
   ],
   "source": [
    "N_subjects = 20\n",
    "K_voxels = (9, 10, 9)\n",
    "P1_perms = 1000\n",
    "\n",
    "perms = np.random.normal(loc=0.5, scale=0.05, size=(N_subjects, np.prod(K_voxels), P1_perms))\n",
    "obs = np.random.normal(loc=0.55, scale=0.05, size=(N_subjects, np.prod(K_voxels)))\n",
    "all_data = np.dstack((obs[:, :, np.newaxis], perms))\n",
    "\n",
    "print(\"Perms shape: %s\" % (perms.shape,))\n",
    "print(\"Observed values shape: %s\" % (obs.shape,))\n",
    "print(\"All_data shape: %a\" % (all_data.shape,))"
   ]
  },
  {
   "cell_type": "markdown",
   "metadata": {},
   "source": [
    "## Analysis params"
   ]
  },
  {
   "cell_type": "code",
   "execution_count": 4,
   "metadata": {},
   "outputs": [],
   "source": [
    "P2_perms = 1000\n",
    "alpha = 0.05"
   ]
  },
  {
   "cell_type": "markdown",
   "metadata": {},
   "source": [
    "## Analysis"
   ]
  },
  {
   "cell_type": "code",
   "execution_count": 6,
   "metadata": {},
   "outputs": [],
   "source": [
    "minstat_L2 = np.min(obs, axis=0)"
   ]
  },
  {
   "cell_type": "code",
   "execution_count": null,
   "metadata": {},
   "outputs": [],
   "source": [
    "# Find second level stats\n",
    "\n",
    "for i in range(P2_perms):\n",
    "    "
   ]
  }
 ],
 "metadata": {
  "kernelspec": {
   "display_name": "Python 3",
   "language": "python",
   "name": "python3"
  },
  "language_info": {
   "codemirror_mode": {
    "name": "ipython",
    "version": 3
   },
   "file_extension": ".py",
   "mimetype": "text/x-python",
   "name": "python",
   "nbconvert_exporter": "python",
   "pygments_lexer": "ipython3",
   "version": "3.6.3"
  }
 },
 "nbformat": 4,
 "nbformat_minor": 2
}
