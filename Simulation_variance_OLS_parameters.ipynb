{
 "cells": [
  {
   "cell_type": "markdown",
   "metadata": {},
   "source": [
    "# Simulation of variance of OLS parameters\n",
    "Recently, I've spend some time to understand what *variance* of parameters actually means. If I understand it correctly, the variance of an estimate refers to how much we expect our estimate ($\\hat{\\beta}$) to vary from the true population parameter ($\\beta$). In OLS, two terms contribute to the variance estimate: the unexplained variance and the design variance. \n",
    "\n",
    "Unexplained variance, also referred to as $\\hat{\\sigma}^{2}$, is defined as:\n",
    "\n",
    "\\begin{align}\n",
    "\\hat{\\sigma}^{2} = \\frac{\\sum_{i=1}^{N} (y_{i} - \\hat{y}_{i})^{2}}{N - K}\n",
    "\\end{align}\n",
    "\n",
    "The design variance, for any contrast $c$, is defined as:\n",
    "\n",
    "\\begin{align}\n",
    "desvar = c(X'X)^{-1}c'\n",
    "\\end{align}\n",
    "\n",
    "As such, the variance of any contrast of beta-parameter(s) is defined as:\n",
    "\n",
    "\\begin{align}\n",
    "\\mathrm{var}[c\\beta] = \\frac{\\sum_{i=1}^{N} (y_{i} - \\hat{y}_{i})^{2}}{N - K} c(X'X)^{-1}c'\n",
    "\\end{align}\n",
    "\n",
    "While mathematically, I understand *how* variance is computed. But it's conceptual meaning -- i.e. the expected squared deviation from the true population parameter -- is still a bit muddy for me. As such, I decided to simulate the process, which often helps me to understand statistical issues.\n",
    "\n",
    "First, some imports."
   ]
  },
  {
   "cell_type": "code",
   "execution_count": 42,
   "metadata": {
    "collapsed": true
   },
   "outputs": [],
   "source": [
    "import numpy as np\n",
    "import matplotlib.pyplot as plt\n",
    "%matplotlib inline"
   ]
  },
  {
   "cell_type": "markdown",
   "metadata": {},
   "source": [
    "Now, let's define an arbitrary *true* model of some dependent variable $y$. Let's assume the true function is:\n",
    "\n",
    "\\begin{align}\n",
    "y = 10 + 5x\n",
    "\\end{align}"
   ]
  },
  {
   "cell_type": "code",
   "execution_count": 45,
   "metadata": {},
   "outputs": [
    {
     "data": {
      "image/png": "[encoded data removed]",
      "text/plain": [
       "<matplotlib.figure.Figure at 0x10e9bd748>"
      ]
     },
     "metadata": {},
     "output_type": "display_data"
    }
   ],
   "source": [
    "x = np.arange(100)\n",
    "y = 10 + 5 * x\n",
    "plt.plot(x, y)\n",
    "plt.title(\"True function of y\")\n",
    "plt.show()"
   ]
  },
  {
   "cell_type": "markdown",
   "metadata": {},
   "source": [
    "Let's now add some random gaussian noise ($\\mu = 0, \\sigma=1$) to our dependent variable and estimate the parameter of the intercept and $x$ using linear regression. We'll also calculate the variance of this estimate (using the contrast-vector `[1, 0]` for the intercept-parameter and `[0, 1]` for the $x$-parameter). We'll iterate this process 10,000 times and keep track of the parameter-estimates and their variance-estimates."
   ]
  },
  {
   "cell_type": "code",
   "execution_count": 60,
   "metadata": {
    "collapsed": true
   },
   "outputs": [],
   "source": [
    "iters = 50000\n",
    "betas = np.zeros((iters, 2))\n",
    "vars = np.zeros((iters, 2))\n",
    "c = np.array([[1, 0], [0, 1]])\n",
    "X = np.hstack((np.ones((100, 1)), x[:, np.newaxis]))\n",
    "    \n",
    "for i in range(iters):\n",
    "    y2 = y + np.random.normal(0, 1, 100) * 100\n",
    "    betas[i, :] = np.linalg.lstsq(X, y2)[0]\n",
    "    y_hat = X.dot(betas[-1, :])\n",
    "    sigma_hat = np.sum((y_hat - y2) ** 2) / (X.shape[0] - X.shape[1])\n",
    "    desvar = c.dot(np.linalg.pinv(X.T.dot(X))).dot(c.T)\n",
    "    vars[i, :] = np.diag(sigma_hat * desvar)"
   ]
  },
  {
   "cell_type": "markdown",
   "metadata": {},
   "source": [
    "Let's plot the histograms of the two parameter-estimates:"
   ]
  },
  {
   "cell_type": "code",
   "execution_count": 62,
   "metadata": {},
   "outputs": [
    {
     "data": {
      "image/png": "[encoded data removed]",
      "text/plain": [
       "<matplotlib.figure.Figure at 0x10f19f128>"
      ]
     },
     "metadata": {},
     "output_type": "display_data"
    }
   ],
   "source": [
    "plt.figure(figsize=(15, 5))\n",
    "plt.subplot(1, 2, 1)\n",
    "plt.hist(betas[:, 0], bins=50)\n",
    "plt.title(r\"$\\hat{\\beta}_{0}$\", fontsize=20)\n",
    "\n",
    "plt.subplot(1, 2, 2)\n",
    "plt.hist(betas[:, 1], bins=50)\n",
    "plt.title(r\"$\\hat{\\beta}_{x}$\", fontsize=20)\n",
    "\n",
    "plt.show()"
   ]
  },
  {
   "cell_type": "markdown",
   "metadata": {},
   "source": [
    "Now, the central limit theorem (CTL) predicts that the mean of this distribution should approximate the true parameters (I think). Let's check that:"
   ]
  },
  {
   "cell_type": "code",
   "execution_count": 63,
   "metadata": {},
   "outputs": [
    {
     "data": {
      "text/plain": [
       "array([ 10.10447338,   4.99799692])"
      ]
     },
     "execution_count": 63,
     "metadata": {},
     "output_type": "execute_result"
    }
   ],
   "source": [
    "betas.mean(axis=0)"
   ]
  },
  {
   "cell_type": "markdown",
   "metadata": {},
   "source": [
    "Now, let's calculate the variance of our parameter-estimates across the simulations:"
   ]
  },
  {
   "cell_type": "code",
   "execution_count": 64,
   "metadata": {},
   "outputs": [
    {
     "data": {
      "text/plain": [
       "array([  3.94466169e+02,   1.19993340e-01])"
      ]
     },
     "execution_count": 64,
     "metadata": {},
     "output_type": "execute_result"
    }
   ],
   "source": [
    "betas.var(axis=0)"
   ]
  },
  {
   "cell_type": "markdown",
   "metadata": {},
   "source": [
    "This estimate from our simulation should then (I think) approximate the average variance estimate across simulations:"
   ]
  },
  {
   "cell_type": "code",
   "execution_count": 73,
   "metadata": {},
   "outputs": [
    {
     "data": {
      "text/plain": [
       "array([  3.90509682e+03,   1.18930922e+00])"
      ]
     },
     "execution_count": 73,
     "metadata": {},
     "output_type": "execute_result"
    }
   ],
   "source": [
    "vars.mean(axis=0)"
   ]
  },
  {
   "cell_type": "markdown",
   "metadata": {},
   "source": [
    "... which seems indeed the case!"
   ]
  },
  {
   "cell_type": "code",
   "execution_count": 72,
   "metadata": {},
   "outputs": [
    {
     "data": {
      "image/png": "[encoded data removed]",
      "text/plain": [
       "<matplotlib.figure.Figure at 0x110415860>"
      ]
     },
     "metadata": {},
     "output_type": "display_data"
    }
   ],
   "source": [
    "plt.figure(figsize=(15, 5))\n",
    "plt.subplot(1, 2, 1)\n",
    "plt.hist(vars[:, 0], bins=50)\n",
    "plt.title(r\"$\\hat{\\mathrm{var}[\\beta}_{0}]$\", fontsize=20)\n",
    "\n",
    "plt.subplot(1, 2, 2)\n",
    "plt.hist(vars[:, 1], bins=50)\n",
    "plt.title(r\"$\\hat{\\mathrm{var}[\\beta}_{x}]$\", fontsize=20)\n",
    "\n",
    "plt.show()"
   ]
  }
 ],
 "metadata": {
  "kernelspec": {
   "display_name": "Python 3",
   "language": "python",
   "name": "python3"
  },
  "language_info": {
   "codemirror_mode": {
    "name": "ipython",
    "version": 3
   },
   "file_extension": ".py",
   "mimetype": "text/x-python",
   "name": "python",
   "nbconvert_exporter": "python",
   "pygments_lexer": "ipython3",
   "version": "3.6.2"
  }
 },
 "nbformat": 4,
 "nbformat_minor": 2
}
