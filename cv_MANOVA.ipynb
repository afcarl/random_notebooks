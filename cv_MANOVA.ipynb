{
 "cells": [
  {
   "cell_type": "markdown",
   "metadata": {},
   "source": [
    "# Attempt to recreate cross-validated MANOVA in Python\n",
    "Based on the paper by [Allefeld & Haynes (2014)](http://www.sciencedirect.com/science/article/pii/S1053811913011920)."
   ]
  },
  {
   "cell_type": "markdown",
   "metadata": {},
   "source": [
    "# GLM\n",
    "First, calculate parameter(s) $\\beta$ based on design ($X$) and dependent variables ($y$):\n",
    "\n",
    "\\begin{align}\n",
    "\\beta = (X'X)^{-1}X'y\n",
    "\\end{align}"
   ]
  },
  {
   "cell_type": "code",
   "execution_count": 4,
   "metadata": {},
   "outputs": [],
   "source": [
    "from sklearn.datasets import load_iris\n",
    "from sklearn.preprocessing import OneHotEncoder\n",
    "import numpy as np\n",
    "\n",
    "y, categories = load_iris(return_X_y=True)\n",
    "ohe = OneHotEncoder(sparse=False)\n",
    "X = ohe.fit_transform(categories[:, np.newaxis]).astype(float)"
   ]
  },
  {
   "cell_type": "code",
   "execution_count": 5,
   "metadata": {},
   "outputs": [],
   "source": [
    "betas = np.linalg.pinv(X.T.dot(X)).dot(X.T).dot(y)"
   ]
  },
  {
   "cell_type": "markdown",
   "metadata": {},
   "source": [
    "The within-class covariance $\\Sigma$, given the residuals $\\Xi$ is:\n",
    "\n",
    "\\begin{align}\n",
    "\\Sigma = \\frac{1}{N}(\\Xi'\\Xi)\n",
    "\\end{align}\n",
    "\n",
    "And the between-class covariance is:\n",
    "\n",
    "\\begin{align}\n",
    "\\frac{1}{N}\\beta'_{\\Delta}X'X\\beta_{\\Delta}\n",
    "\\end{align}"
   ]
  },
  {
   "cell_type": "code",
   "execution_count": 27,
   "metadata": {},
   "outputs": [
    {
     "data": {
      "text/plain": [
       "(3, 4)"
      ]
     },
     "execution_count": 27,
     "metadata": {},
     "output_type": "execute_result"
    }
   ],
   "source": [
    "contrast = np.array([\n",
    "    [1, 0, -1],\n",
    "    [0, 1, -1]\n",
    "])\n",
    "\n",
    "c_bar = np.linalg.pinv(contrast.T.dot(contrast)).dot(contrast.T)\n",
    "bdelta = contrast.T.dot(c_bar.T).dot(betas)\n",
    "bdelta.shape"
   ]
  },
  {
   "cell_type": "code",
   "execution_count": 28,
   "metadata": {},
   "outputs": [
    {
     "data": {
      "text/plain": [
       "(4, 4)"
      ]
     },
     "execution_count": 28,
     "metadata": {},
     "output_type": "execute_result"
    }
   ],
   "source": [
    "resids = y - X.dot(betas)\n",
    "error_cov = resids.T.dot(resids)\n",
    "error_cov.shape"
   ]
  },
  {
   "cell_type": "code",
   "execution_count": 29,
   "metadata": {},
   "outputs": [
    {
     "data": {
      "text/plain": [
       "(4, 4)"
      ]
     },
     "execution_count": 29,
     "metadata": {},
     "output_type": "execute_result"
    }
   ],
   "source": [
    "beta_cov = bdelta.T.dot(X.T).dot(X).dot(bdelta)\n",
    "beta_cov.shape"
   ]
  },
  {
   "cell_type": "code",
   "execution_count": 30,
   "metadata": {},
   "outputs": [
    {
     "data": {
      "text/plain": [
       "32.549524663569905"
      ]
     },
     "execution_count": 30,
     "metadata": {},
     "output_type": "execute_result"
    }
   ],
   "source": [
    "hotellings_T = np.trace(beta_cov.dot(np.linalg.pinv(error_cov)))\n",
    "hotellings_T"
   ]
  },
  {
   "cell_type": "code",
   "execution_count": 32,
   "metadata": {},
   "outputs": [
    {
     "data": {
      "text/html": [
       "<table class=\"simpletable\">\n",
       "<tr>\n",
       "  <td></td> <td></td> <td></td> <td></td>\n",
       "</tr>\n",
       "</table>\n",
       "<table class=\"simpletable\">\n",
       "<tr>\n",
       "  <td></td>            <th>a</th>            <th>Value</th>  <th>Num DF</th>  <th>Den DF</th>   <th>F Value</th>  <th>Pr > F</th>\n",
       "</tr>\n",
       "<tr>\n",
       "  <th></th>      <td>Wilks' lambda</td>     <td>0.0235</td>  <td>8.0000</td> <td>288.0000</td> <td>198.7110</td>  <td>0.0000</td>\n",
       "</tr>\n",
       "<tr>\n",
       "  <th></th>     <td>Pillai's trace</td>     <td>1.1872</td>  <td>8.0000</td> <td>290.0000</td>  <td>52.9486</td>  <td>0.0000</td>\n",
       "</tr>\n",
       "<tr>\n",
       "  <th></th> <td>Hotelling-Lawley trace</td> <td>32.5495</td> <td>8.0000</td> <td>203.4024</td> <td>583.4914</td>  <td>0.0000</td>\n",
       "</tr>\n",
       "<tr>\n",
       "  <th></th>   <td>Roy's greatest root</td>  <td>32.2720</td> <td>4.0000</td> <td>145.0000</td> <td>1169.8585</td> <td>0.0000</td>\n",
       "</tr>\n",
       "</table>"
      ],
      "text/plain": [
       "<class 'statsmodels.iolib.summary2.Summary'>\n",
       "\"\"\"\n",
       "                   Multivariate linear model\n",
       "================================================================\n",
       "                                                                \n",
       "----------------------------------------------------------------\n",
       "           a             Value  Num DF  Den DF   F Value  Pr > F\n",
       "----------------------------------------------------------------\n",
       "          Wilks' lambda  0.0235 8.0000 288.0000  198.7110 0.0000\n",
       "         Pillai's trace  1.1872 8.0000 290.0000   52.9486 0.0000\n",
       " Hotelling-Lawley trace 32.5495 8.0000 203.4024  583.4914 0.0000\n",
       "    Roy's greatest root 32.2720 4.0000 145.0000 1169.8585 0.0000\n",
       "================================================================\n",
       "\n",
       "\"\"\""
      ]
     },
     "execution_count": 32,
     "metadata": {},
     "output_type": "execute_result"
    }
   ],
   "source": [
    "from statsmodels.multivariate.manova import MANOVA\n",
    "mod=MANOVA(endog=y, exog=X)\n",
    "res = mod.mv_test([('a', contrast)])\n",
    "res.summary()"
   ]
  }
 ],
 "metadata": {
  "kernelspec": {
   "display_name": "Python 3",
   "language": "python",
   "name": "python3"
  },
  "language_info": {
   "codemirror_mode": {
    "name": "ipython",
    "version": 3
   },
   "file_extension": ".py",
   "mimetype": "text/x-python",
   "name": "python",
   "nbconvert_exporter": "python",
   "pygments_lexer": "ipython3",
   "version": "3.6.1"
  }
 },
 "nbformat": 4,
 "nbformat_minor": 2
}
