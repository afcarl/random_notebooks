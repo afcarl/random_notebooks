{
 "cells": [
  {
   "cell_type": "code",
   "execution_count": 15,
   "metadata": {
    "collapsed": false
   },
   "outputs": [],
   "source": [
    "import joblib\n",
    "from sklearn.svm import SVC\n",
    "from sklearn.feature_selection import f_classif, SelectKBest\n",
    "from sklearn.preprocessing import StandardScaler\n",
    "from sklearn.pipeline import Pipeline\n",
    "from skbold.utils import MvpResultsClassification\n",
    "import numpy as np\n",
    "import nibabel as nib\n",
    "from sklearn.cross_validation import StratifiedKFold"
   ]
  },
  {
   "cell_type": "code",
   "execution_count": 2,
   "metadata": {
    "collapsed": true
   },
   "outputs": [],
   "source": [
    "mvp = joblib.load('/media/lukas/data/DecodingEmotions/DATA/DATA_MVPA/Validation_set/glm_SELF/sub002/mvp.jl')\n",
    "mvp.featureset_id -= 1"
   ]
  },
  {
   "cell_type": "code",
   "execution_count": 22,
   "metadata": {
    "collapsed": false
   },
   "outputs": [],
   "source": [
    "pipe = Pipeline([\n",
    "        ('scaler', StandardScaler()),\n",
    "        ('ufs', SelectKBest(f_classif, k=10000)),\n",
    "        ('svm', SVC(kernel='linear', decision_function_shape='ovo'))\n",
    "    ])\n",
    "mvpres = MvpResultsClassification(mvp=mvp, n_iter=20, out_path=None, feature_scoring='fwm')"
   ]
  },
  {
   "cell_type": "code",
   "execution_count": 23,
   "metadata": {
    "collapsed": false
   },
   "outputs": [
    {
     "name": "stdout",
     "output_type": "stream",
     "text": [
      "0\n",
      "0\n",
      "0\n",
      "0\n",
      "0\n",
      "0\n",
      "0\n",
      "0\n",
      "0\n",
      "0\n",
      "0\n",
      "0\n",
      "0\n",
      "0\n",
      "0\n",
      "0\n",
      "0\n",
      "0\n",
      "0\n",
      "0\n"
     ]
    }
   ],
   "source": [
    "for train_idx, test_idx in StratifiedKFold(mvp.y, n_folds=20):\n",
    "    \n",
    "    train, test = mvp.X[train_idx, :], mvp.X[test_idx, :]\n",
    "    y_train, y_test = mvp.y[train_idx], mvp.y[test_idx]\n",
    "    \n",
    "    pipe.fit(train, y_train)\n",
    "    pred = pipe.predict(test)\n",
    "    mvpres.update(test_idx, pred, pipe)"
   ]
  },
  {
   "cell_type": "code",
   "execution_count": 24,
   "metadata": {
    "collapsed": false
   },
   "outputs": [
    {
     "name": "stdout",
     "output_type": "stream",
     "text": [
      "\n",
      "\n",
      "      Accuracy        F1  Precision   Recall  n_voxels\n",
      "mean   0.65000  0.616667   0.650000  0.65000   10000.0\n",
      "std    0.14204  0.157280   0.209505  0.14204       0.0\n",
      "\n",
      "Confusion matrix:\n",
      "[[ 30.   5.   5.]\n",
      " [  8.  24.   8.]\n",
      " [  7.   9.  24.]]\n",
      "\n",
      "\n",
      "0\n",
      "[0]\n"
     ]
    }
   ],
   "source": [
    "mvpres.compute_scores()\n",
    "mvpres.write(multiclass='ovo')"
   ]
  },
  {
   "cell_type": "code",
   "execution_count": null,
   "metadata": {
    "collapsed": false
   },
   "outputs": [],
   "source": [
    "from itertools import chain, combinations\n",
    "from scipy.misc import comb\n",
    "n, k = 3, 2\n",
    "n_models = comb(n, k, exact=True)\n",
    "cmb = list(combinations(range(n_models), 2))"
   ]
  },
  {
   "cell_type": "code",
   "execution_count": null,
   "metadata": {
    "collapsed": false
   },
   "outputs": [],
   "source": [
    "scores = np.zeros((coef.shape[1], 3))\n",
    "\n",
    "for number in range(n_models):\n",
    "    \n",
    "    print('model nr %i\\n---------\\n' % number)\n",
    "    \n",
    "    for i, c in enumerate(cmb):\n",
    "        \n",
    "        print('combination: %r' % list(c))\n",
    "        \n",
    "        if number in c:\n",
    "            print('Model %i in %r' % (number, list(c)))\n",
    "            print('index: %i' % c.index(number))\n",
    "\n",
    "            if c.index(number) == 1:\n",
    "                print('reversing')\n",
    "                val = coef[i, :] * -1\n",
    "            else:\n",
    "                val = coef[i, :]\n",
    "            \n",
    "            scores[:, number] += val\n",
    "        print('\\n')\n",
    "scores = scores / 3"
   ]
  },
  {
   "cell_type": "code",
   "execution_count": null,
   "metadata": {
    "collapsed": false
   },
   "outputs": [],
   "source": [
    "np.sum(scores[:, 0] == 0).sum()"
   ]
  },
  {
   "cell_type": "code",
   "execution_count": null,
   "metadata": {
    "collapsed": false
   },
   "outputs": [],
   "source": [
    "wb = np.zeros(mvp.data_shape).ravel()\n",
    "#coef_tmp = np.zeros(mvp.X.shape[1])\n",
    "#coef_tmp[idx] = coef[2, :]\n",
    "wb[mvp.voxel_idx] = scores[:, 2]\n",
    "wb = wb.reshape(mvp.data_shape)\n",
    "img = nib.Nifti1Image(wb, affine=mvp.affine)\n",
    "img.to_filename('/home/lukas/testtest3')"
   ]
  },
  {
   "cell_type": "code",
   "execution_count": null,
   "metadata": {
    "collapsed": true
   },
   "outputs": [],
   "source": []
  }
 ],
 "metadata": {
  "kernelspec": {
   "display_name": "Python 2",
   "language": "python",
   "name": "python2"
  },
  "language_info": {
   "codemirror_mode": {
    "name": "ipython",
    "version": 2
   },
   "file_extension": ".py",
   "mimetype": "text/x-python",
   "name": "python",
   "nbconvert_exporter": "python",
   "pygments_lexer": "ipython2",
   "version": "2.7.11"
  }
 },
 "nbformat": 4,
 "nbformat_minor": 0
}
